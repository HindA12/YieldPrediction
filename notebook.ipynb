{
  "cells": [
    {
      "cell_type": "markdown",
      "source": [
        "#### 1/ Importing libraries and Google Drive:\n",
        "\n",
        "\n",
        "\n"
      ],
      "metadata": {
        "id": "bHf60uZtQxEJ"
      }
    },
    {
      "cell_type": "markdown",
      "source": [
        "We start by importing the necessary libraries that we will use in preprocessing and training the data."
      ],
      "metadata": {
        "id": "qsBHywxcRg_B"
      }
    },
    {
      "cell_type": "code",
      "execution_count": null,
      "metadata": {
        "id": "ErGiHuXoM2ID"
      },
      "outputs": [],
      "source": [
        "import tensorflow as tf\n",
        "from tensorflow.keras import layers, callbacks\n",
        "import keras  \n",
        "import os\n",
        "import glob \n",
        "from skimage import io \n",
        "import random \n",
        "import numpy as np\n",
        "import matplotlib.pyplot as plt \n",
        "import cv2\n",
        "import pandas as pd\n",
        "import imutils\n",
        "%matplotlib inline"
      ]
    },
    {
      "cell_type": "markdown",
      "source": [
        "We have also to import the google drive as our images are stored there."
      ],
      "metadata": {
        "id": "blTi-bsKR0eL"
      }
    },
    {
      "cell_type": "code",
      "source": [
        "from google.colab import drive\n",
        "drive.mount('/content/drive')"
      ],
      "metadata": {
        "colab": {
          "base_uri": "https://localhost:8080/"
        },
        "id": "s-ft0UL8zFl6",
        "outputId": "cca87a35-c50b-4a71-d7cd-506650f5be23"
      },
      "execution_count": null,
      "outputs": [
        {
          "output_type": "stream",
          "name": "stdout",
          "text": [
            "Mounted at /content/drive\n"
          ]
        }
      ]
    },
    {
      "cell_type": "markdown",
      "source": [
        "#### 2/ Importing the data:"
      ],
      "metadata": {
        "id": "-h-pI-iHSJ6K"
      }
    },
    {
      "cell_type": "markdown",
      "source": [
        "First, we import the yield data that makes the link between the ID of the observation and its yield."
      ],
      "metadata": {
        "id": "lz9_a81ESlH5"
      }
    },
    {
      "cell_type": "code",
      "source": [
        "df1 = pd.read_csv(\"/content/data3.csv\", sep=';', encoding='cp1252')\n",
        "df1.head()"
      ],
      "metadata": {
        "colab": {
          "base_uri": "https://localhost:8080/",
          "height": 270
        },
        "id": "Nq30tnlxxQ-5",
        "outputId": "119bdcbb-d652-4d48-d13e-11fe880d226f"
      },
      "execution_count": null,
      "outputs": [
        {
          "output_type": "execute_result",
          "data": {
            "text/plain": [
              "                    collecte numero_collecte  numero superficie date_creation  \\\n",
              "0  60ad09cd76fe70ea228284451   124777-2735-1       1     2,0164    25/05/2021   \n",
              "1  60ad09ce76fe70ea228284481   124778-2735-2       1     2,5414    25/05/2021   \n",
              "2  60ad09ce76fe70ea2282844b1   124779-2735-3       1     3,8712    25/05/2021   \n",
              "3  60ad09d076fe70ea2282844e1   124780-2735-4       1      2,592    25/05/2021   \n",
              "4  60ad09d076fe70ea228284511   124781-2735-5       1     2,0964    25/05/2021   \n",
              "\n",
              "   id_echantillon  id_seg_r  id_zon_ech  id_region  id_province  id_commune  \\\n",
              "0            2746     70937         170         40          334        6033   \n",
              "1            2746     70937         170         40          334        6033   \n",
              "2            2746     70937         170         40          334        6033   \n",
              "3            2746     70937         170         40          334        6033   \n",
              "4            2746     70937         170         40          334        6033   \n",
              "\n",
              "   id_zon_agr  RendmtPrecdtCult PrecedentCult Conduite  OccupationSol  \\\n",
              "0         250                12          Orge     Bour            961   \n",
              "1         250                18    Ble_tendre     Bour           1063   \n",
              "2         250                15     Tournesol     Bour            961   \n",
              "3         250                15       Ble_dur     Bour           1057   \n",
              "4         250                18    Ble_tendre     Bour           1057   \n",
              "\n",
              "  TypeUtilisationDuSol  UtilisationHorsCultures  CultSousEtage  \n",
              "0             agricole                      NaN            NaN  \n",
              "1             agricole                      NaN            NaN  \n",
              "2             agricole                      NaN            NaN  \n",
              "3             agricole                      NaN            NaN  \n",
              "4             agricole                      NaN            NaN  "
            ],
            "text/html": [
              "\n",
              "  <div id=\"df-39236a89-9c97-4f17-b4f7-c20df2abcd2c\">\n",
              "    <div class=\"colab-df-container\">\n",
              "      <div>\n",
              "<style scoped>\n",
              "    .dataframe tbody tr th:only-of-type {\n",
              "        vertical-align: middle;\n",
              "    }\n",
              "\n",
              "    .dataframe tbody tr th {\n",
              "        vertical-align: top;\n",
              "    }\n",
              "\n",
              "    .dataframe thead th {\n",
              "        text-align: right;\n",
              "    }\n",
              "</style>\n",
              "<table border=\"1\" class=\"dataframe\">\n",
              "  <thead>\n",
              "    <tr style=\"text-align: right;\">\n",
              "      <th></th>\n",
              "      <th>collecte</th>\n",
              "      <th>numero_collecte</th>\n",
              "      <th>numero</th>\n",
              "      <th>superficie</th>\n",
              "      <th>date_creation</th>\n",
              "      <th>id_echantillon</th>\n",
              "      <th>id_seg_r</th>\n",
              "      <th>id_zon_ech</th>\n",
              "      <th>id_region</th>\n",
              "      <th>id_province</th>\n",
              "      <th>id_commune</th>\n",
              "      <th>id_zon_agr</th>\n",
              "      <th>RendmtPrecdtCult</th>\n",
              "      <th>PrecedentCult</th>\n",
              "      <th>Conduite</th>\n",
              "      <th>OccupationSol</th>\n",
              "      <th>TypeUtilisationDuSol</th>\n",
              "      <th>UtilisationHorsCultures</th>\n",
              "      <th>CultSousEtage</th>\n",
              "    </tr>\n",
              "  </thead>\n",
              "  <tbody>\n",
              "    <tr>\n",
              "      <th>0</th>\n",
              "      <td>60ad09cd76fe70ea228284451</td>\n",
              "      <td>124777-2735-1</td>\n",
              "      <td>1</td>\n",
              "      <td>2,0164</td>\n",
              "      <td>25/05/2021</td>\n",
              "      <td>2746</td>\n",
              "      <td>70937</td>\n",
              "      <td>170</td>\n",
              "      <td>40</td>\n",
              "      <td>334</td>\n",
              "      <td>6033</td>\n",
              "      <td>250</td>\n",
              "      <td>12</td>\n",
              "      <td>Orge</td>\n",
              "      <td>Bour</td>\n",
              "      <td>961</td>\n",
              "      <td>agricole</td>\n",
              "      <td>NaN</td>\n",
              "      <td>NaN</td>\n",
              "    </tr>\n",
              "    <tr>\n",
              "      <th>1</th>\n",
              "      <td>60ad09ce76fe70ea228284481</td>\n",
              "      <td>124778-2735-2</td>\n",
              "      <td>1</td>\n",
              "      <td>2,5414</td>\n",
              "      <td>25/05/2021</td>\n",
              "      <td>2746</td>\n",
              "      <td>70937</td>\n",
              "      <td>170</td>\n",
              "      <td>40</td>\n",
              "      <td>334</td>\n",
              "      <td>6033</td>\n",
              "      <td>250</td>\n",
              "      <td>18</td>\n",
              "      <td>Ble_tendre</td>\n",
              "      <td>Bour</td>\n",
              "      <td>1063</td>\n",
              "      <td>agricole</td>\n",
              "      <td>NaN</td>\n",
              "      <td>NaN</td>\n",
              "    </tr>\n",
              "    <tr>\n",
              "      <th>2</th>\n",
              "      <td>60ad09ce76fe70ea2282844b1</td>\n",
              "      <td>124779-2735-3</td>\n",
              "      <td>1</td>\n",
              "      <td>3,8712</td>\n",
              "      <td>25/05/2021</td>\n",
              "      <td>2746</td>\n",
              "      <td>70937</td>\n",
              "      <td>170</td>\n",
              "      <td>40</td>\n",
              "      <td>334</td>\n",
              "      <td>6033</td>\n",
              "      <td>250</td>\n",
              "      <td>15</td>\n",
              "      <td>Tournesol</td>\n",
              "      <td>Bour</td>\n",
              "      <td>961</td>\n",
              "      <td>agricole</td>\n",
              "      <td>NaN</td>\n",
              "      <td>NaN</td>\n",
              "    </tr>\n",
              "    <tr>\n",
              "      <th>3</th>\n",
              "      <td>60ad09d076fe70ea2282844e1</td>\n",
              "      <td>124780-2735-4</td>\n",
              "      <td>1</td>\n",
              "      <td>2,592</td>\n",
              "      <td>25/05/2021</td>\n",
              "      <td>2746</td>\n",
              "      <td>70937</td>\n",
              "      <td>170</td>\n",
              "      <td>40</td>\n",
              "      <td>334</td>\n",
              "      <td>6033</td>\n",
              "      <td>250</td>\n",
              "      <td>15</td>\n",
              "      <td>Ble_dur</td>\n",
              "      <td>Bour</td>\n",
              "      <td>1057</td>\n",
              "      <td>agricole</td>\n",
              "      <td>NaN</td>\n",
              "      <td>NaN</td>\n",
              "    </tr>\n",
              "    <tr>\n",
              "      <th>4</th>\n",
              "      <td>60ad09d076fe70ea228284511</td>\n",
              "      <td>124781-2735-5</td>\n",
              "      <td>1</td>\n",
              "      <td>2,0964</td>\n",
              "      <td>25/05/2021</td>\n",
              "      <td>2746</td>\n",
              "      <td>70937</td>\n",
              "      <td>170</td>\n",
              "      <td>40</td>\n",
              "      <td>334</td>\n",
              "      <td>6033</td>\n",
              "      <td>250</td>\n",
              "      <td>18</td>\n",
              "      <td>Ble_tendre</td>\n",
              "      <td>Bour</td>\n",
              "      <td>1057</td>\n",
              "      <td>agricole</td>\n",
              "      <td>NaN</td>\n",
              "      <td>NaN</td>\n",
              "    </tr>\n",
              "  </tbody>\n",
              "</table>\n",
              "</div>\n",
              "      <button class=\"colab-df-convert\" onclick=\"convertToInteractive('df-39236a89-9c97-4f17-b4f7-c20df2abcd2c')\"\n",
              "              title=\"Convert this dataframe to an interactive table.\"\n",
              "              style=\"display:none;\">\n",
              "        \n",
              "  <svg xmlns=\"http://www.w3.org/2000/svg\" height=\"24px\"viewBox=\"0 0 24 24\"\n",
              "       width=\"24px\">\n",
              "    <path d=\"M0 0h24v24H0V0z\" fill=\"none\"/>\n",
              "    <path d=\"M18.56 5.44l.94 2.06.94-2.06 2.06-.94-2.06-.94-.94-2.06-.94 2.06-2.06.94zm-11 1L8.5 8.5l.94-2.06 2.06-.94-2.06-.94L8.5 2.5l-.94 2.06-2.06.94zm10 10l.94 2.06.94-2.06 2.06-.94-2.06-.94-.94-2.06-.94 2.06-2.06.94z\"/><path d=\"M17.41 7.96l-1.37-1.37c-.4-.4-.92-.59-1.43-.59-.52 0-1.04.2-1.43.59L10.3 9.45l-7.72 7.72c-.78.78-.78 2.05 0 2.83L4 21.41c.39.39.9.59 1.41.59.51 0 1.02-.2 1.41-.59l7.78-7.78 2.81-2.81c.8-.78.8-2.07 0-2.86zM5.41 20L4 18.59l7.72-7.72 1.47 1.35L5.41 20z\"/>\n",
              "  </svg>\n",
              "      </button>\n",
              "      \n",
              "  <style>\n",
              "    .colab-df-container {\n",
              "      display:flex;\n",
              "      flex-wrap:wrap;\n",
              "      gap: 12px;\n",
              "    }\n",
              "\n",
              "    .colab-df-convert {\n",
              "      background-color: #E8F0FE;\n",
              "      border: none;\n",
              "      border-radius: 50%;\n",
              "      cursor: pointer;\n",
              "      display: none;\n",
              "      fill: #1967D2;\n",
              "      height: 32px;\n",
              "      padding: 0 0 0 0;\n",
              "      width: 32px;\n",
              "    }\n",
              "\n",
              "    .colab-df-convert:hover {\n",
              "      background-color: #E2EBFA;\n",
              "      box-shadow: 0px 1px 2px rgba(60, 64, 67, 0.3), 0px 1px 3px 1px rgba(60, 64, 67, 0.15);\n",
              "      fill: #174EA6;\n",
              "    }\n",
              "\n",
              "    [theme=dark] .colab-df-convert {\n",
              "      background-color: #3B4455;\n",
              "      fill: #D2E3FC;\n",
              "    }\n",
              "\n",
              "    [theme=dark] .colab-df-convert:hover {\n",
              "      background-color: #434B5C;\n",
              "      box-shadow: 0px 1px 3px 1px rgba(0, 0, 0, 0.15);\n",
              "      filter: drop-shadow(0px 1px 2px rgba(0, 0, 0, 0.3));\n",
              "      fill: #FFFFFF;\n",
              "    }\n",
              "  </style>\n",
              "\n",
              "      <script>\n",
              "        const buttonEl =\n",
              "          document.querySelector('#df-39236a89-9c97-4f17-b4f7-c20df2abcd2c button.colab-df-convert');\n",
              "        buttonEl.style.display =\n",
              "          google.colab.kernel.accessAllowed ? 'block' : 'none';\n",
              "\n",
              "        async function convertToInteractive(key) {\n",
              "          const element = document.querySelector('#df-39236a89-9c97-4f17-b4f7-c20df2abcd2c');\n",
              "          const dataTable =\n",
              "            await google.colab.kernel.invokeFunction('convertToInteractive',\n",
              "                                                     [key], {});\n",
              "          if (!dataTable) return;\n",
              "\n",
              "          const docLinkHtml = 'Like what you see? Visit the ' +\n",
              "            '<a target=\"_blank\" href=https://colab.research.google.com/notebooks/data_table.ipynb>data table notebook</a>'\n",
              "            + ' to learn more about interactive tables.';\n",
              "          element.innerHTML = '';\n",
              "          dataTable['output_type'] = 'display_data';\n",
              "          await google.colab.output.renderOutput(dataTable, element);\n",
              "          const docLink = document.createElement('div');\n",
              "          docLink.innerHTML = docLinkHtml;\n",
              "          element.appendChild(docLink);\n",
              "        }\n",
              "      </script>\n",
              "    </div>\n",
              "  </div>\n",
              "  "
            ]
          },
          "metadata": {},
          "execution_count": 3
        }
      ]
    },
    {
      "cell_type": "markdown",
      "source": [
        "Then, we import another dataframe that links every culture with the corresponding culture."
      ],
      "metadata": {
        "id": "Vu8P5tSlTG02"
      }
    },
    {
      "cell_type": "code",
      "source": [
        "df2 = pd.read_csv(\"/content/code.csv\", sep=';', encoding='cp1252')\n",
        "df2.head()"
      ],
      "metadata": {
        "colab": {
          "base_uri": "https://localhost:8080/",
          "height": 206
        },
        "id": "gruzX2CG40dP",
        "outputId": "63681a07-2186-4276-8792-43852918a3ba"
      },
      "execution_count": null,
      "outputs": [
        {
          "output_type": "execute_result",
          "data": {
            "text/plain": [
              "   OccupationSol   Culture\n",
              "0            933  Abricots\n",
              "1            993  Absinthe\n",
              "2            994       Ail\n",
              "3            962   Alpiste\n",
              "4            932   Amandes"
            ],
            "text/html": [
              "\n",
              "  <div id=\"df-79b59cda-c1b9-457f-abc6-3c1a0f2665b7\">\n",
              "    <div class=\"colab-df-container\">\n",
              "      <div>\n",
              "<style scoped>\n",
              "    .dataframe tbody tr th:only-of-type {\n",
              "        vertical-align: middle;\n",
              "    }\n",
              "\n",
              "    .dataframe tbody tr th {\n",
              "        vertical-align: top;\n",
              "    }\n",
              "\n",
              "    .dataframe thead th {\n",
              "        text-align: right;\n",
              "    }\n",
              "</style>\n",
              "<table border=\"1\" class=\"dataframe\">\n",
              "  <thead>\n",
              "    <tr style=\"text-align: right;\">\n",
              "      <th></th>\n",
              "      <th>OccupationSol</th>\n",
              "      <th>Culture</th>\n",
              "    </tr>\n",
              "  </thead>\n",
              "  <tbody>\n",
              "    <tr>\n",
              "      <th>0</th>\n",
              "      <td>933</td>\n",
              "      <td>Abricots</td>\n",
              "    </tr>\n",
              "    <tr>\n",
              "      <th>1</th>\n",
              "      <td>993</td>\n",
              "      <td>Absinthe</td>\n",
              "    </tr>\n",
              "    <tr>\n",
              "      <th>2</th>\n",
              "      <td>994</td>\n",
              "      <td>Ail</td>\n",
              "    </tr>\n",
              "    <tr>\n",
              "      <th>3</th>\n",
              "      <td>962</td>\n",
              "      <td>Alpiste</td>\n",
              "    </tr>\n",
              "    <tr>\n",
              "      <th>4</th>\n",
              "      <td>932</td>\n",
              "      <td>Amandes</td>\n",
              "    </tr>\n",
              "  </tbody>\n",
              "</table>\n",
              "</div>\n",
              "      <button class=\"colab-df-convert\" onclick=\"convertToInteractive('df-79b59cda-c1b9-457f-abc6-3c1a0f2665b7')\"\n",
              "              title=\"Convert this dataframe to an interactive table.\"\n",
              "              style=\"display:none;\">\n",
              "        \n",
              "  <svg xmlns=\"http://www.w3.org/2000/svg\" height=\"24px\"viewBox=\"0 0 24 24\"\n",
              "       width=\"24px\">\n",
              "    <path d=\"M0 0h24v24H0V0z\" fill=\"none\"/>\n",
              "    <path d=\"M18.56 5.44l.94 2.06.94-2.06 2.06-.94-2.06-.94-.94-2.06-.94 2.06-2.06.94zm-11 1L8.5 8.5l.94-2.06 2.06-.94-2.06-.94L8.5 2.5l-.94 2.06-2.06.94zm10 10l.94 2.06.94-2.06 2.06-.94-2.06-.94-.94-2.06-.94 2.06-2.06.94z\"/><path d=\"M17.41 7.96l-1.37-1.37c-.4-.4-.92-.59-1.43-.59-.52 0-1.04.2-1.43.59L10.3 9.45l-7.72 7.72c-.78.78-.78 2.05 0 2.83L4 21.41c.39.39.9.59 1.41.59.51 0 1.02-.2 1.41-.59l7.78-7.78 2.81-2.81c.8-.78.8-2.07 0-2.86zM5.41 20L4 18.59l7.72-7.72 1.47 1.35L5.41 20z\"/>\n",
              "  </svg>\n",
              "      </button>\n",
              "      \n",
              "  <style>\n",
              "    .colab-df-container {\n",
              "      display:flex;\n",
              "      flex-wrap:wrap;\n",
              "      gap: 12px;\n",
              "    }\n",
              "\n",
              "    .colab-df-convert {\n",
              "      background-color: #E8F0FE;\n",
              "      border: none;\n",
              "      border-radius: 50%;\n",
              "      cursor: pointer;\n",
              "      display: none;\n",
              "      fill: #1967D2;\n",
              "      height: 32px;\n",
              "      padding: 0 0 0 0;\n",
              "      width: 32px;\n",
              "    }\n",
              "\n",
              "    .colab-df-convert:hover {\n",
              "      background-color: #E2EBFA;\n",
              "      box-shadow: 0px 1px 2px rgba(60, 64, 67, 0.3), 0px 1px 3px 1px rgba(60, 64, 67, 0.15);\n",
              "      fill: #174EA6;\n",
              "    }\n",
              "\n",
              "    [theme=dark] .colab-df-convert {\n",
              "      background-color: #3B4455;\n",
              "      fill: #D2E3FC;\n",
              "    }\n",
              "\n",
              "    [theme=dark] .colab-df-convert:hover {\n",
              "      background-color: #434B5C;\n",
              "      box-shadow: 0px 1px 3px 1px rgba(0, 0, 0, 0.15);\n",
              "      filter: drop-shadow(0px 1px 2px rgba(0, 0, 0, 0.3));\n",
              "      fill: #FFFFFF;\n",
              "    }\n",
              "  </style>\n",
              "\n",
              "      <script>\n",
              "        const buttonEl =\n",
              "          document.querySelector('#df-79b59cda-c1b9-457f-abc6-3c1a0f2665b7 button.colab-df-convert');\n",
              "        buttonEl.style.display =\n",
              "          google.colab.kernel.accessAllowed ? 'block' : 'none';\n",
              "\n",
              "        async function convertToInteractive(key) {\n",
              "          const element = document.querySelector('#df-79b59cda-c1b9-457f-abc6-3c1a0f2665b7');\n",
              "          const dataTable =\n",
              "            await google.colab.kernel.invokeFunction('convertToInteractive',\n",
              "                                                     [key], {});\n",
              "          if (!dataTable) return;\n",
              "\n",
              "          const docLinkHtml = 'Like what you see? Visit the ' +\n",
              "            '<a target=\"_blank\" href=https://colab.research.google.com/notebooks/data_table.ipynb>data table notebook</a>'\n",
              "            + ' to learn more about interactive tables.';\n",
              "          element.innerHTML = '';\n",
              "          dataTable['output_type'] = 'display_data';\n",
              "          await google.colab.output.renderOutput(dataTable, element);\n",
              "          const docLink = document.createElement('div');\n",
              "          docLink.innerHTML = docLinkHtml;\n",
              "          element.appendChild(docLink);\n",
              "        }\n",
              "      </script>\n",
              "    </div>\n",
              "  </div>\n",
              "  "
            ]
          },
          "metadata": {},
          "execution_count": 4
        }
      ]
    },
    {
      "cell_type": "markdown",
      "source": [
        "#### 3/ Cleaning the data:"
      ],
      "metadata": {
        "id": "cDbQsVhNUD-b"
      }
    },
    {
      "cell_type": "markdown",
      "source": [
        "The first thing that we have to do while cleaning the data is to count how many nan values there are in every column.\n",
        "\n"
      ],
      "metadata": {
        "id": "l0hmh_3LUMF5"
      }
    },
    {
      "cell_type": "code",
      "source": [
        "df1.isnull().sum()"
      ],
      "metadata": {
        "colab": {
          "base_uri": "https://localhost:8080/"
        },
        "id": "VTEidN5-yTQ9",
        "outputId": "8b93dcd1-e89a-4d2d-ee1c-3293aa2f16a5"
      },
      "execution_count": null,
      "outputs": [
        {
          "output_type": "execute_result",
          "data": {
            "text/plain": [
              "collecte                      0\n",
              "numero_collecte               0\n",
              "numero                        0\n",
              "superficie                    0\n",
              "date_creation                 0\n",
              "id_echantillon                0\n",
              "id_seg_r                      0\n",
              "id_zon_ech                    0\n",
              "id_region                     0\n",
              "id_province                   0\n",
              "id_commune                    0\n",
              "id_zon_agr                    0\n",
              "RendmtPrecdtCult              0\n",
              "PrecedentCult                 0\n",
              "Conduite                      0\n",
              "OccupationSol                 0\n",
              "TypeUtilisationDuSol          0\n",
              "UtilisationHorsCultures    1039\n",
              "CultSousEtage               997\n",
              "dtype: int64"
            ]
          },
          "metadata": {},
          "execution_count": 5
        }
      ]
    },
    {
      "cell_type": "markdown",
      "source": [
        "The two coming cells allow to replace the 'OccupationSol' column by the cultures as we just have the code that represent every culture."
      ],
      "metadata": {
        "id": "TdkcDGP_U6iZ"
      }
    },
    {
      "cell_type": "code",
      "source": [
        "Dict = pd.Series(df2.Culture.values,index=df2.OccupationSol).to_dict()"
      ],
      "metadata": {
        "id": "usPxt_ShS3_S"
      },
      "execution_count": null,
      "outputs": []
    },
    {
      "cell_type": "code",
      "source": [
        "df1=df1.replace({\"OccupationSol\": Dict})\n",
        "df1.head()"
      ],
      "metadata": {
        "colab": {
          "base_uri": "https://localhost:8080/",
          "height": 270
        },
        "id": "SG3-C5vZUOfT",
        "outputId": "4d9e28f1-1761-46f2-e1fa-b19e48973d1a"
      },
      "execution_count": null,
      "outputs": [
        {
          "output_type": "execute_result",
          "data": {
            "text/plain": [
              "                    collecte numero_collecte  numero superficie date_creation  \\\n",
              "0  60ad09cd76fe70ea228284451   124777-2735-1       1     2,0164    25/05/2021   \n",
              "1  60ad09ce76fe70ea228284481   124778-2735-2       1     2,5414    25/05/2021   \n",
              "2  60ad09ce76fe70ea2282844b1   124779-2735-3       1     3,8712    25/05/2021   \n",
              "3  60ad09d076fe70ea2282844e1   124780-2735-4       1      2,592    25/05/2021   \n",
              "4  60ad09d076fe70ea228284511   124781-2735-5       1     2,0964    25/05/2021   \n",
              "\n",
              "   id_echantillon  id_seg_r  id_zon_ech  id_region  id_province  id_commune  \\\n",
              "0            2746     70937         170         40          334        6033   \n",
              "1            2746     70937         170         40          334        6033   \n",
              "2            2746     70937         170         40          334        6033   \n",
              "3            2746     70937         170         40          334        6033   \n",
              "4            2746     70937         170         40          334        6033   \n",
              "\n",
              "   id_zon_agr  RendmtPrecdtCult PrecedentCult Conduite OccupationSol  \\\n",
              "0         250                12          Orge     Bour    Ble_tendre   \n",
              "1         250                18    Ble_tendre     Bour     Tournesol   \n",
              "2         250                15     Tournesol     Bour    Ble_tendre   \n",
              "3         250                15       Ble_dur     Bour  Pois_chiches   \n",
              "4         250                18    Ble_tendre     Bour  Pois_chiches   \n",
              "\n",
              "  TypeUtilisationDuSol  UtilisationHorsCultures  CultSousEtage  \n",
              "0             agricole                      NaN            NaN  \n",
              "1             agricole                      NaN            NaN  \n",
              "2             agricole                      NaN            NaN  \n",
              "3             agricole                      NaN            NaN  \n",
              "4             agricole                      NaN            NaN  "
            ],
            "text/html": [
              "\n",
              "  <div id=\"df-c949c1a9-7559-4286-99e5-bfc618542089\">\n",
              "    <div class=\"colab-df-container\">\n",
              "      <div>\n",
              "<style scoped>\n",
              "    .dataframe tbody tr th:only-of-type {\n",
              "        vertical-align: middle;\n",
              "    }\n",
              "\n",
              "    .dataframe tbody tr th {\n",
              "        vertical-align: top;\n",
              "    }\n",
              "\n",
              "    .dataframe thead th {\n",
              "        text-align: right;\n",
              "    }\n",
              "</style>\n",
              "<table border=\"1\" class=\"dataframe\">\n",
              "  <thead>\n",
              "    <tr style=\"text-align: right;\">\n",
              "      <th></th>\n",
              "      <th>collecte</th>\n",
              "      <th>numero_collecte</th>\n",
              "      <th>numero</th>\n",
              "      <th>superficie</th>\n",
              "      <th>date_creation</th>\n",
              "      <th>id_echantillon</th>\n",
              "      <th>id_seg_r</th>\n",
              "      <th>id_zon_ech</th>\n",
              "      <th>id_region</th>\n",
              "      <th>id_province</th>\n",
              "      <th>id_commune</th>\n",
              "      <th>id_zon_agr</th>\n",
              "      <th>RendmtPrecdtCult</th>\n",
              "      <th>PrecedentCult</th>\n",
              "      <th>Conduite</th>\n",
              "      <th>OccupationSol</th>\n",
              "      <th>TypeUtilisationDuSol</th>\n",
              "      <th>UtilisationHorsCultures</th>\n",
              "      <th>CultSousEtage</th>\n",
              "    </tr>\n",
              "  </thead>\n",
              "  <tbody>\n",
              "    <tr>\n",
              "      <th>0</th>\n",
              "      <td>60ad09cd76fe70ea228284451</td>\n",
              "      <td>124777-2735-1</td>\n",
              "      <td>1</td>\n",
              "      <td>2,0164</td>\n",
              "      <td>25/05/2021</td>\n",
              "      <td>2746</td>\n",
              "      <td>70937</td>\n",
              "      <td>170</td>\n",
              "      <td>40</td>\n",
              "      <td>334</td>\n",
              "      <td>6033</td>\n",
              "      <td>250</td>\n",
              "      <td>12</td>\n",
              "      <td>Orge</td>\n",
              "      <td>Bour</td>\n",
              "      <td>Ble_tendre</td>\n",
              "      <td>agricole</td>\n",
              "      <td>NaN</td>\n",
              "      <td>NaN</td>\n",
              "    </tr>\n",
              "    <tr>\n",
              "      <th>1</th>\n",
              "      <td>60ad09ce76fe70ea228284481</td>\n",
              "      <td>124778-2735-2</td>\n",
              "      <td>1</td>\n",
              "      <td>2,5414</td>\n",
              "      <td>25/05/2021</td>\n",
              "      <td>2746</td>\n",
              "      <td>70937</td>\n",
              "      <td>170</td>\n",
              "      <td>40</td>\n",
              "      <td>334</td>\n",
              "      <td>6033</td>\n",
              "      <td>250</td>\n",
              "      <td>18</td>\n",
              "      <td>Ble_tendre</td>\n",
              "      <td>Bour</td>\n",
              "      <td>Tournesol</td>\n",
              "      <td>agricole</td>\n",
              "      <td>NaN</td>\n",
              "      <td>NaN</td>\n",
              "    </tr>\n",
              "    <tr>\n",
              "      <th>2</th>\n",
              "      <td>60ad09ce76fe70ea2282844b1</td>\n",
              "      <td>124779-2735-3</td>\n",
              "      <td>1</td>\n",
              "      <td>3,8712</td>\n",
              "      <td>25/05/2021</td>\n",
              "      <td>2746</td>\n",
              "      <td>70937</td>\n",
              "      <td>170</td>\n",
              "      <td>40</td>\n",
              "      <td>334</td>\n",
              "      <td>6033</td>\n",
              "      <td>250</td>\n",
              "      <td>15</td>\n",
              "      <td>Tournesol</td>\n",
              "      <td>Bour</td>\n",
              "      <td>Ble_tendre</td>\n",
              "      <td>agricole</td>\n",
              "      <td>NaN</td>\n",
              "      <td>NaN</td>\n",
              "    </tr>\n",
              "    <tr>\n",
              "      <th>3</th>\n",
              "      <td>60ad09d076fe70ea2282844e1</td>\n",
              "      <td>124780-2735-4</td>\n",
              "      <td>1</td>\n",
              "      <td>2,592</td>\n",
              "      <td>25/05/2021</td>\n",
              "      <td>2746</td>\n",
              "      <td>70937</td>\n",
              "      <td>170</td>\n",
              "      <td>40</td>\n",
              "      <td>334</td>\n",
              "      <td>6033</td>\n",
              "      <td>250</td>\n",
              "      <td>15</td>\n",
              "      <td>Ble_dur</td>\n",
              "      <td>Bour</td>\n",
              "      <td>Pois_chiches</td>\n",
              "      <td>agricole</td>\n",
              "      <td>NaN</td>\n",
              "      <td>NaN</td>\n",
              "    </tr>\n",
              "    <tr>\n",
              "      <th>4</th>\n",
              "      <td>60ad09d076fe70ea228284511</td>\n",
              "      <td>124781-2735-5</td>\n",
              "      <td>1</td>\n",
              "      <td>2,0964</td>\n",
              "      <td>25/05/2021</td>\n",
              "      <td>2746</td>\n",
              "      <td>70937</td>\n",
              "      <td>170</td>\n",
              "      <td>40</td>\n",
              "      <td>334</td>\n",
              "      <td>6033</td>\n",
              "      <td>250</td>\n",
              "      <td>18</td>\n",
              "      <td>Ble_tendre</td>\n",
              "      <td>Bour</td>\n",
              "      <td>Pois_chiches</td>\n",
              "      <td>agricole</td>\n",
              "      <td>NaN</td>\n",
              "      <td>NaN</td>\n",
              "    </tr>\n",
              "  </tbody>\n",
              "</table>\n",
              "</div>\n",
              "      <button class=\"colab-df-convert\" onclick=\"convertToInteractive('df-c949c1a9-7559-4286-99e5-bfc618542089')\"\n",
              "              title=\"Convert this dataframe to an interactive table.\"\n",
              "              style=\"display:none;\">\n",
              "        \n",
              "  <svg xmlns=\"http://www.w3.org/2000/svg\" height=\"24px\"viewBox=\"0 0 24 24\"\n",
              "       width=\"24px\">\n",
              "    <path d=\"M0 0h24v24H0V0z\" fill=\"none\"/>\n",
              "    <path d=\"M18.56 5.44l.94 2.06.94-2.06 2.06-.94-2.06-.94-.94-2.06-.94 2.06-2.06.94zm-11 1L8.5 8.5l.94-2.06 2.06-.94-2.06-.94L8.5 2.5l-.94 2.06-2.06.94zm10 10l.94 2.06.94-2.06 2.06-.94-2.06-.94-.94-2.06-.94 2.06-2.06.94z\"/><path d=\"M17.41 7.96l-1.37-1.37c-.4-.4-.92-.59-1.43-.59-.52 0-1.04.2-1.43.59L10.3 9.45l-7.72 7.72c-.78.78-.78 2.05 0 2.83L4 21.41c.39.39.9.59 1.41.59.51 0 1.02-.2 1.41-.59l7.78-7.78 2.81-2.81c.8-.78.8-2.07 0-2.86zM5.41 20L4 18.59l7.72-7.72 1.47 1.35L5.41 20z\"/>\n",
              "  </svg>\n",
              "      </button>\n",
              "      \n",
              "  <style>\n",
              "    .colab-df-container {\n",
              "      display:flex;\n",
              "      flex-wrap:wrap;\n",
              "      gap: 12px;\n",
              "    }\n",
              "\n",
              "    .colab-df-convert {\n",
              "      background-color: #E8F0FE;\n",
              "      border: none;\n",
              "      border-radius: 50%;\n",
              "      cursor: pointer;\n",
              "      display: none;\n",
              "      fill: #1967D2;\n",
              "      height: 32px;\n",
              "      padding: 0 0 0 0;\n",
              "      width: 32px;\n",
              "    }\n",
              "\n",
              "    .colab-df-convert:hover {\n",
              "      background-color: #E2EBFA;\n",
              "      box-shadow: 0px 1px 2px rgba(60, 64, 67, 0.3), 0px 1px 3px 1px rgba(60, 64, 67, 0.15);\n",
              "      fill: #174EA6;\n",
              "    }\n",
              "\n",
              "    [theme=dark] .colab-df-convert {\n",
              "      background-color: #3B4455;\n",
              "      fill: #D2E3FC;\n",
              "    }\n",
              "\n",
              "    [theme=dark] .colab-df-convert:hover {\n",
              "      background-color: #434B5C;\n",
              "      box-shadow: 0px 1px 3px 1px rgba(0, 0, 0, 0.15);\n",
              "      filter: drop-shadow(0px 1px 2px rgba(0, 0, 0, 0.3));\n",
              "      fill: #FFFFFF;\n",
              "    }\n",
              "  </style>\n",
              "\n",
              "      <script>\n",
              "        const buttonEl =\n",
              "          document.querySelector('#df-c949c1a9-7559-4286-99e5-bfc618542089 button.colab-df-convert');\n",
              "        buttonEl.style.display =\n",
              "          google.colab.kernel.accessAllowed ? 'block' : 'none';\n",
              "\n",
              "        async function convertToInteractive(key) {\n",
              "          const element = document.querySelector('#df-c949c1a9-7559-4286-99e5-bfc618542089');\n",
              "          const dataTable =\n",
              "            await google.colab.kernel.invokeFunction('convertToInteractive',\n",
              "                                                     [key], {});\n",
              "          if (!dataTable) return;\n",
              "\n",
              "          const docLinkHtml = 'Like what you see? Visit the ' +\n",
              "            '<a target=\"_blank\" href=https://colab.research.google.com/notebooks/data_table.ipynb>data table notebook</a>'\n",
              "            + ' to learn more about interactive tables.';\n",
              "          element.innerHTML = '';\n",
              "          dataTable['output_type'] = 'display_data';\n",
              "          await google.colab.output.renderOutput(dataTable, element);\n",
              "          const docLink = document.createElement('div');\n",
              "          docLink.innerHTML = docLinkHtml;\n",
              "          element.appendChild(docLink);\n",
              "        }\n",
              "      </script>\n",
              "    </div>\n",
              "  </div>\n",
              "  "
            ]
          },
          "metadata": {},
          "execution_count": 7
        }
      ]
    },
    {
      "cell_type": "markdown",
      "source": [
        "In th coming steps, we will just need 3 features: 'collecte', 'RendmtPrecdtCult' and 'PrecedentCult'. Therfore, we leave just these three features."
      ],
      "metadata": {
        "id": "zS0_wL51XZ1w"
      }
    },
    {
      "cell_type": "code",
      "source": [
        "df1 = df1[['collecte','RendmtPrecdtCult','PrecedentCult']]\n",
        "df1.head()"
      ],
      "metadata": {
        "colab": {
          "base_uri": "https://localhost:8080/",
          "height": 206
        },
        "id": "VrIHeuyYy1BR",
        "outputId": "a8e68bba-5e1b-4850-a49b-87daa353c9e8"
      },
      "execution_count": null,
      "outputs": [
        {
          "output_type": "execute_result",
          "data": {
            "text/plain": [
              "                    collecte  RendmtPrecdtCult PrecedentCult\n",
              "0  60ad09cd76fe70ea228284451                12          Orge\n",
              "1  60ad09ce76fe70ea228284481                18    Ble_tendre\n",
              "2  60ad09ce76fe70ea2282844b1                15     Tournesol\n",
              "3  60ad09d076fe70ea2282844e1                15       Ble_dur\n",
              "4  60ad09d076fe70ea228284511                18    Ble_tendre"
            ],
            "text/html": [
              "\n",
              "  <div id=\"df-0df2d5f8-aa54-4e52-ad99-4c88c3d3357e\">\n",
              "    <div class=\"colab-df-container\">\n",
              "      <div>\n",
              "<style scoped>\n",
              "    .dataframe tbody tr th:only-of-type {\n",
              "        vertical-align: middle;\n",
              "    }\n",
              "\n",
              "    .dataframe tbody tr th {\n",
              "        vertical-align: top;\n",
              "    }\n",
              "\n",
              "    .dataframe thead th {\n",
              "        text-align: right;\n",
              "    }\n",
              "</style>\n",
              "<table border=\"1\" class=\"dataframe\">\n",
              "  <thead>\n",
              "    <tr style=\"text-align: right;\">\n",
              "      <th></th>\n",
              "      <th>collecte</th>\n",
              "      <th>RendmtPrecdtCult</th>\n",
              "      <th>PrecedentCult</th>\n",
              "    </tr>\n",
              "  </thead>\n",
              "  <tbody>\n",
              "    <tr>\n",
              "      <th>0</th>\n",
              "      <td>60ad09cd76fe70ea228284451</td>\n",
              "      <td>12</td>\n",
              "      <td>Orge</td>\n",
              "    </tr>\n",
              "    <tr>\n",
              "      <th>1</th>\n",
              "      <td>60ad09ce76fe70ea228284481</td>\n",
              "      <td>18</td>\n",
              "      <td>Ble_tendre</td>\n",
              "    </tr>\n",
              "    <tr>\n",
              "      <th>2</th>\n",
              "      <td>60ad09ce76fe70ea2282844b1</td>\n",
              "      <td>15</td>\n",
              "      <td>Tournesol</td>\n",
              "    </tr>\n",
              "    <tr>\n",
              "      <th>3</th>\n",
              "      <td>60ad09d076fe70ea2282844e1</td>\n",
              "      <td>15</td>\n",
              "      <td>Ble_dur</td>\n",
              "    </tr>\n",
              "    <tr>\n",
              "      <th>4</th>\n",
              "      <td>60ad09d076fe70ea228284511</td>\n",
              "      <td>18</td>\n",
              "      <td>Ble_tendre</td>\n",
              "    </tr>\n",
              "  </tbody>\n",
              "</table>\n",
              "</div>\n",
              "      <button class=\"colab-df-convert\" onclick=\"convertToInteractive('df-0df2d5f8-aa54-4e52-ad99-4c88c3d3357e')\"\n",
              "              title=\"Convert this dataframe to an interactive table.\"\n",
              "              style=\"display:none;\">\n",
              "        \n",
              "  <svg xmlns=\"http://www.w3.org/2000/svg\" height=\"24px\"viewBox=\"0 0 24 24\"\n",
              "       width=\"24px\">\n",
              "    <path d=\"M0 0h24v24H0V0z\" fill=\"none\"/>\n",
              "    <path d=\"M18.56 5.44l.94 2.06.94-2.06 2.06-.94-2.06-.94-.94-2.06-.94 2.06-2.06.94zm-11 1L8.5 8.5l.94-2.06 2.06-.94-2.06-.94L8.5 2.5l-.94 2.06-2.06.94zm10 10l.94 2.06.94-2.06 2.06-.94-2.06-.94-.94-2.06-.94 2.06-2.06.94z\"/><path d=\"M17.41 7.96l-1.37-1.37c-.4-.4-.92-.59-1.43-.59-.52 0-1.04.2-1.43.59L10.3 9.45l-7.72 7.72c-.78.78-.78 2.05 0 2.83L4 21.41c.39.39.9.59 1.41.59.51 0 1.02-.2 1.41-.59l7.78-7.78 2.81-2.81c.8-.78.8-2.07 0-2.86zM5.41 20L4 18.59l7.72-7.72 1.47 1.35L5.41 20z\"/>\n",
              "  </svg>\n",
              "      </button>\n",
              "      \n",
              "  <style>\n",
              "    .colab-df-container {\n",
              "      display:flex;\n",
              "      flex-wrap:wrap;\n",
              "      gap: 12px;\n",
              "    }\n",
              "\n",
              "    .colab-df-convert {\n",
              "      background-color: #E8F0FE;\n",
              "      border: none;\n",
              "      border-radius: 50%;\n",
              "      cursor: pointer;\n",
              "      display: none;\n",
              "      fill: #1967D2;\n",
              "      height: 32px;\n",
              "      padding: 0 0 0 0;\n",
              "      width: 32px;\n",
              "    }\n",
              "\n",
              "    .colab-df-convert:hover {\n",
              "      background-color: #E2EBFA;\n",
              "      box-shadow: 0px 1px 2px rgba(60, 64, 67, 0.3), 0px 1px 3px 1px rgba(60, 64, 67, 0.15);\n",
              "      fill: #174EA6;\n",
              "    }\n",
              "\n",
              "    [theme=dark] .colab-df-convert {\n",
              "      background-color: #3B4455;\n",
              "      fill: #D2E3FC;\n",
              "    }\n",
              "\n",
              "    [theme=dark] .colab-df-convert:hover {\n",
              "      background-color: #434B5C;\n",
              "      box-shadow: 0px 1px 3px 1px rgba(0, 0, 0, 0.15);\n",
              "      filter: drop-shadow(0px 1px 2px rgba(0, 0, 0, 0.3));\n",
              "      fill: #FFFFFF;\n",
              "    }\n",
              "  </style>\n",
              "\n",
              "      <script>\n",
              "        const buttonEl =\n",
              "          document.querySelector('#df-0df2d5f8-aa54-4e52-ad99-4c88c3d3357e button.colab-df-convert');\n",
              "        buttonEl.style.display =\n",
              "          google.colab.kernel.accessAllowed ? 'block' : 'none';\n",
              "\n",
              "        async function convertToInteractive(key) {\n",
              "          const element = document.querySelector('#df-0df2d5f8-aa54-4e52-ad99-4c88c3d3357e');\n",
              "          const dataTable =\n",
              "            await google.colab.kernel.invokeFunction('convertToInteractive',\n",
              "                                                     [key], {});\n",
              "          if (!dataTable) return;\n",
              "\n",
              "          const docLinkHtml = 'Like what you see? Visit the ' +\n",
              "            '<a target=\"_blank\" href=https://colab.research.google.com/notebooks/data_table.ipynb>data table notebook</a>'\n",
              "            + ' to learn more about interactive tables.';\n",
              "          element.innerHTML = '';\n",
              "          dataTable['output_type'] = 'display_data';\n",
              "          await google.colab.output.renderOutput(dataTable, element);\n",
              "          const docLink = document.createElement('div');\n",
              "          docLink.innerHTML = docLinkHtml;\n",
              "          element.appendChild(docLink);\n",
              "        }\n",
              "      </script>\n",
              "    </div>\n",
              "  </div>\n",
              "  "
            ]
          },
          "metadata": {},
          "execution_count": 8
        }
      ]
    },
    {
      "cell_type": "markdown",
      "source": [
        "#### 4/ Preprocessing the images:"
      ],
      "metadata": {
        "id": "H1jPkvMkYGsk"
      }
    },
    {
      "cell_type": "markdown",
      "source": [
        "We start by defining a function named 'imgPreprocess' that we will contain all the functions used to preprocess a single image."
      ],
      "metadata": {
        "id": "pYZNLl3CYPmc"
      }
    },
    {
      "cell_type": "code",
      "execution_count": null,
      "metadata": {
        "id": "QYz017-dTfLT"
      },
      "outputs": [],
      "source": [
        "def imgPreprocess(img):\n",
        "  img = cv2.cvtColor(img, cv2.COLOR_BGR2RGB)\n",
        "  img = cv2.resize(img, (30,30), interpolation=cv2.INTER_AREA)\n",
        "  img = cv2.GaussianBlur(img, (5, 5), 0)\n",
        "  norm = np.zeros((30,30))\n",
        "  img = cv2.normalize(img,norm,0,255,cv2.NORM_MINMAX)\n",
        "  return img"
      ]
    },
    {
      "cell_type": "markdown",
      "source": [
        "We build a list that contains all the image path. This list will be iterated in order to process every image and to store the result in the '/content' folder."
      ],
      "metadata": {
        "id": "y65RX-WbYx2v"
      }
    },
    {
      "cell_type": "code",
      "execution_count": null,
      "metadata": {
        "id": "9CJBEPLiWwG9"
      },
      "outputs": [],
      "source": [
        "path = []\n",
        "for i in range(1039):\n",
        "  str1 = df1._get_value(i, 'collecte')\n",
        "  str2 = df1._get_value(i, 'PrecedentCult')\n",
        "  path.append('/content/drive/MyDrive/image_satellite/clipped_images/'+str2+'/'+str1+'.tif')"
      ]
    },
    {
      "cell_type": "code",
      "execution_count": null,
      "metadata": {
        "colab": {
          "base_uri": "https://localhost:8080/"
        },
        "id": "gv7aYeE92VP7",
        "outputId": "922f4a0e-1eca-4cc9-9b9c-da5c5ae34f78"
      },
      "outputs": [
        {
          "output_type": "stream",
          "name": "stdout",
          "text": [
            "/content/drive/MyDrive/image_satellite/clipped_images/Ble_dur/60ba0e8c55ac57f6f89009b42.tif\n",
            "/content/drive/MyDrive/image_satellite/clipped_images/Bersim/60c77e768a93b674d75cd2372.tif\n",
            "/content/drive/MyDrive/image_satellite/clipped_images/Ble_tendre/60cb0efb62629e758360c0565.tif\n",
            "/content/drive/MyDrive/image_satellite/clipped_images/Orge/60cc62c22dcff075b105f5991.tif\n",
            "/content/drive/MyDrive/image_satellite/clipped_images/Ble_tendre/60cc6d7e2dcff075b105f5e52.tif\n",
            "/content/drive/MyDrive/image_satellite/clipped_images/Avocatier/60d1c7872dcff075b105fd311.tif\n"
          ]
        }
      ],
      "source": [
        "for i in range(len(path)):\n",
        "  img = cv2.imread(path[i], cv2.IMREAD_COLOR)\n",
        "  if img is None:\n",
        "    print(path[i])\n",
        "  else:\n",
        "    img = imgPreprocess(img)\n",
        "    cv2.imwrite(df1._get_value(i, 'collecte')+'.tif', img)"
      ]
    },
    {
      "cell_type": "markdown",
      "source": [
        "Here, we will drop all the rows that don't match to any image."
      ],
      "metadata": {
        "id": "IOhm2vNpaTdv"
      }
    },
    {
      "cell_type": "code",
      "execution_count": null,
      "metadata": {
        "id": "ItUL1xT8fLIy"
      },
      "outputs": [],
      "source": [
        "df1.drop(df1[df1['collecte'] == '60c77e768a93b674d75cd2372'].index, inplace = True)\n",
        "df1.drop(df1[df1['collecte'] == '60cb0efb62629e758360c0565'].index, inplace = True)\n",
        "df1.drop(df1[df1['collecte'] == '60cc62c22dcff075b105f5991'].index, inplace = True)\n",
        "df1.drop(df1[df1['collecte'] == '60ba0e8c55ac57f6f89009b42'].index, inplace = True)\n",
        "df1.drop(df1[df1['collecte'] == '60cc6d7e2dcff075b105f5e52'].index, inplace = True)\n",
        "df1.drop(df1[df1['collecte'] == '60d1c7872dcff075b105fd311'].index, inplace = True)"
      ]
    },
    {
      "cell_type": "code",
      "source": [
        "df1 = df1.reset_index(drop=True)"
      ],
      "metadata": {
        "id": "QmSsiiqC32zb"
      },
      "execution_count": null,
      "outputs": []
    },
    {
      "cell_type": "markdown",
      "source": [
        "To train the images with the deep learning model, we have to change the 'collecte' column with the new path of the images."
      ],
      "metadata": {
        "id": "s7Ajhbqza9Jq"
      }
    },
    {
      "cell_type": "code",
      "execution_count": null,
      "metadata": {
        "colab": {
          "base_uri": "https://localhost:8080/"
        },
        "id": "pBTkM40Dhuux",
        "outputId": "f1ed22e4-c50d-4b7c-ab22-cbc46ab896ef"
      },
      "outputs": [
        {
          "output_type": "stream",
          "name": "stderr",
          "text": [
            "/usr/local/lib/python3.7/dist-packages/ipykernel_launcher.py:2: SettingWithCopyWarning: \n",
            "A value is trying to be set on a copy of a slice from a DataFrame\n",
            "\n",
            "See the caveats in the documentation: https://pandas.pydata.org/pandas-docs/stable/user_guide/indexing.html#returning-a-view-versus-a-copy\n",
            "  \n"
          ]
        }
      ],
      "source": [
        "for i in range(1033):\n",
        "  df1['collecte'][i] = '/content/' + df1['collecte'][i] + '.tif'"
      ]
    },
    {
      "cell_type": "markdown",
      "source": [
        "As we will not need the 'PrecedentCult' column in the coming steps, we will drop it."
      ],
      "metadata": {
        "id": "n7x4nlVpbOwy"
      }
    },
    {
      "cell_type": "code",
      "execution_count": null,
      "metadata": {
        "id": "4GeOlHhciuki"
      },
      "outputs": [],
      "source": [
        "df1 = df1[['collecte', 'RendmtPrecdtCult']]"
      ]
    },
    {
      "cell_type": "markdown",
      "source": [
        "We look for the max and the min of the 'RendmtPrecdtCult' column.\n",
        "\n"
      ],
      "metadata": {
        "id": "-Gc-jEd5b79b"
      }
    },
    {
      "cell_type": "code",
      "source": [
        "print(df1.RendmtPrecdtCult.max())\n",
        "print(df1.RendmtPrecdtCult.min())"
      ],
      "metadata": {
        "colab": {
          "base_uri": "https://localhost:8080/"
        },
        "id": "eh3JdKeQcAqL",
        "outputId": "4d1fe051-bbd8-4c30-cac3-e662cfdccb23"
      },
      "execution_count": null,
      "outputs": [
        {
          "output_type": "stream",
          "name": "stdout",
          "text": [
            "680\n",
            "6\n"
          ]
        }
      ]
    },
    {
      "cell_type": "markdown",
      "source": [
        "As we notice, the range of the values is very big and that will cause a lot of errors while making the predictions. We delete all the rows which their values are bigger than the average."
      ],
      "metadata": {
        "id": "790dNcBMdYeY"
      }
    },
    {
      "cell_type": "code",
      "source": [
        "df1.mean()"
      ],
      "metadata": {
        "colab": {
          "base_uri": "https://localhost:8080/"
        },
        "id": "7wePMyu_3Gxe",
        "outputId": "2cb2aff9-ffae-4de1-e02d-c8d4e44d22bf"
      },
      "execution_count": null,
      "outputs": [
        {
          "output_type": "stream",
          "name": "stderr",
          "text": [
            "/usr/local/lib/python3.7/dist-packages/ipykernel_launcher.py:1: FutureWarning: Dropping of nuisance columns in DataFrame reductions (with 'numeric_only=None') is deprecated; in a future version this will raise TypeError.  Select only valid columns before calling the reduction.\n",
            "  \"\"\"Entry point for launching an IPython kernel.\n"
          ]
        },
        {
          "output_type": "execute_result",
          "data": {
            "text/plain": [
              "RendmtPrecdtCult    63.018393\n",
              "dtype: float64"
            ]
          },
          "metadata": {},
          "execution_count": 17
        }
      ]
    },
    {
      "cell_type": "code",
      "source": [
        "df1 = df1[df1['RendmtPrecdtCult'] <= 63]\n",
        "df1 = df1.reset_index(drop=True)"
      ],
      "metadata": {
        "id": "JVLhn6tB3rgj"
      },
      "execution_count": null,
      "outputs": []
    },
    {
      "cell_type": "markdown",
      "source": [
        "#### 5/ Building the model:"
      ],
      "metadata": {
        "id": "W3jDd0Bmg1GF"
      }
    },
    {
      "cell_type": "markdown",
      "source": [
        "We start by spliting the data into a training set and a testing one."
      ],
      "metadata": {
        "id": "CioLGbObhArS"
      }
    },
    {
      "cell_type": "code",
      "execution_count": null,
      "metadata": {
        "id": "hQXQ-mmCi-IL"
      },
      "outputs": [],
      "source": [
        "from sklearn.model_selection import train_test_split\n",
        "\n",
        "train_df, test_df = train_test_split(df1, train_size=0.8, shuffle=True, random_state=42)"
      ]
    },
    {
      "cell_type": "markdown",
      "source": [
        "To optimaze the results, we will use the augmentation data techinque. Here, we set all the parameters to make the augmentation."
      ],
      "metadata": {
        "id": "Dgcg5hByhfWr"
      }
    },
    {
      "cell_type": "code",
      "execution_count": null,
      "metadata": {
        "id": "76FWS9jOjBV0"
      },
      "outputs": [],
      "source": [
        "train_generator = tf.keras.preprocessing.image.ImageDataGenerator(validation_split=0.2, featurewise_center=True, rotation_range=90, zoom_range=0.2, horizontal_flip=True)\n",
        "test_generator = tf.keras.preprocessing.image.ImageDataGenerator()"
      ]
    },
    {
      "cell_type": "markdown",
      "source": [
        "Here, we apply the augmentation to all the sets."
      ],
      "metadata": {
        "id": "BkVJ3NWrh_kS"
      }
    },
    {
      "cell_type": "code",
      "execution_count": null,
      "metadata": {
        "colab": {
          "base_uri": "https://localhost:8080/"
        },
        "id": "iHiGp4RyjE_Z",
        "outputId": "59b345c9-77f8-42b0-cde1-ebf0004e7e2f"
      },
      "outputs": [
        {
          "output_type": "stream",
          "name": "stdout",
          "text": [
            "Found 555 validated image filenames.\n"
          ]
        }
      ],
      "source": [
        "train_images = train_generator.flow_from_dataframe(\n",
        "    dataframe=train_df,\n",
        "    x_col='collecte',\n",
        "    y_col='RendmtPrecdtCult',\n",
        "    target_size=(30,30),\n",
        "    color_mode='rgb',\n",
        "    class_mode='raw',\n",
        "    batch_size=42,\n",
        "    shuffle=True,\n",
        "    seed=42,\n",
        "    subset='training'\n",
        ")"
      ]
    },
    {
      "cell_type": "code",
      "execution_count": null,
      "metadata": {
        "colab": {
          "base_uri": "https://localhost:8080/"
        },
        "id": "kkbfLlc9jSJE",
        "outputId": "6923de4a-a5a5-43ce-9dcf-7327e22253ad"
      },
      "outputs": [
        {
          "output_type": "stream",
          "name": "stdout",
          "text": [
            "Found 138 validated image filenames.\n"
          ]
        }
      ],
      "source": [
        "val_images = train_generator.flow_from_dataframe(\n",
        "    dataframe=train_df,\n",
        "    x_col='collecte',\n",
        "    y_col='RendmtPrecdtCult',\n",
        "    target_size=(30, 30),\n",
        "    color_mode='rgb',\n",
        "    class_mode='raw',\n",
        "    batch_size=42,\n",
        "    shuffle=True,\n",
        "    seed=42,\n",
        "    subset='validation'\n",
        ")"
      ]
    },
    {
      "cell_type": "code",
      "execution_count": null,
      "metadata": {
        "colab": {
          "base_uri": "https://localhost:8080/"
        },
        "id": "CxjScYh6jZmt",
        "outputId": "eea78514-afae-4808-bd63-446fe8aca484"
      },
      "outputs": [
        {
          "output_type": "stream",
          "name": "stdout",
          "text": [
            "Found 174 validated image filenames.\n"
          ]
        }
      ],
      "source": [
        "test_images = test_generator.flow_from_dataframe(\n",
        "    dataframe=test_df,\n",
        "    x_col='collecte',\n",
        "    y_col='RendmtPrecdtCult',\n",
        "    target_size=(30, 30),\n",
        "    color_mode='rgb',\n",
        "    class_mode='raw',\n",
        "    batch_size=32,\n",
        "    shuffle=False\n",
        ")"
      ]
    },
    {
      "cell_type": "markdown",
      "source": [
        "Then, we build a convolutional neural network model to train the training set."
      ],
      "metadata": {
        "id": "oU6U7_gSigqF"
      }
    },
    {
      "cell_type": "code",
      "execution_count": null,
      "metadata": {
        "id": "Ff4CDf9wjiEv",
        "colab": {
          "base_uri": "https://localhost:8080/"
        },
        "outputId": "b0d73903-efad-427a-9adb-f5b4e30ee930"
      },
      "outputs": [
        {
          "output_type": "stream",
          "name": "stderr",
          "text": [
            "/usr/local/lib/python3.7/dist-packages/keras_preprocessing/image/image_data_generator.py:720: UserWarning: This ImageDataGenerator specifies `featurewise_center`, but it hasn't been fit on any training data. Fit it first by calling `.fit(numpy_data)`.\n",
            "  warnings.warn('This ImageDataGenerator specifies '\n"
          ]
        },
        {
          "output_type": "stream",
          "name": "stdout",
          "text": [
            "Epoch 1/100\n",
            "14/14 [==============================] - 2s 96ms/step - loss: 9.2933 - val_loss: 4.5026\n",
            "Epoch 2/100\n",
            "14/14 [==============================] - 1s 80ms/step - loss: 3.9001 - val_loss: 3.5640\n",
            "Epoch 3/100\n",
            "14/14 [==============================] - 1s 85ms/step - loss: 3.4772 - val_loss: 3.4798\n",
            "Epoch 4/100\n",
            "14/14 [==============================] - 1s 79ms/step - loss: 3.5377 - val_loss: 3.3217\n",
            "Epoch 5/100\n",
            "14/14 [==============================] - 1s 79ms/step - loss: 3.4427 - val_loss: 3.7878\n",
            "Epoch 6/100\n",
            "14/14 [==============================] - 1s 80ms/step - loss: 3.5436 - val_loss: 3.4651\n",
            "Epoch 7/100\n",
            "14/14 [==============================] - 1s 79ms/step - loss: 3.5072 - val_loss: 3.4828\n",
            "Epoch 8/100\n",
            "14/14 [==============================] - 1s 78ms/step - loss: 3.4278 - val_loss: 3.3813\n",
            "Epoch 9/100\n",
            "14/14 [==============================] - 1s 79ms/step - loss: 3.3234 - val_loss: 3.2433\n",
            "Epoch 10/100\n",
            "14/14 [==============================] - 1s 80ms/step - loss: 3.3595 - val_loss: 3.4319\n",
            "Epoch 11/100\n",
            "14/14 [==============================] - 1s 79ms/step - loss: 3.3516 - val_loss: 3.4179\n",
            "Epoch 12/100\n",
            "14/14 [==============================] - 1s 78ms/step - loss: 3.2008 - val_loss: 3.4434\n",
            "Epoch 13/100\n",
            "14/14 [==============================] - 1s 79ms/step - loss: 3.1817 - val_loss: 3.5262\n",
            "Epoch 14/100\n",
            "14/14 [==============================] - 1s 78ms/step - loss: 3.2495 - val_loss: 3.3084\n",
            "Epoch 15/100\n",
            "14/14 [==============================] - 1s 80ms/step - loss: 3.4250 - val_loss: 3.2984\n",
            "Epoch 16/100\n",
            "14/14 [==============================] - 1s 79ms/step - loss: 3.2616 - val_loss: 3.3633\n",
            "Epoch 17/100\n",
            "14/14 [==============================] - 1s 84ms/step - loss: 3.2509 - val_loss: 3.4749\n",
            "Epoch 18/100\n",
            "14/14 [==============================] - 1s 78ms/step - loss: 3.2433 - val_loss: 3.4245\n",
            "Epoch 19/100\n",
            "14/14 [==============================] - 1s 80ms/step - loss: 3.4961 - val_loss: 3.9095\n",
            "Epoch 20/100\n",
            "14/14 [==============================] - 1s 80ms/step - loss: 3.2734 - val_loss: 3.3228\n",
            "Epoch 21/100\n",
            "14/14 [==============================] - 1s 79ms/step - loss: 3.3742 - val_loss: 3.6583\n",
            "Epoch 22/100\n",
            "14/14 [==============================] - 1s 79ms/step - loss: 3.4146 - val_loss: 3.3126\n",
            "Epoch 23/100\n",
            "14/14 [==============================] - 1s 89ms/step - loss: 3.2542 - val_loss: 3.3003\n",
            "Epoch 24/100\n",
            "14/14 [==============================] - 1s 95ms/step - loss: 3.2315 - val_loss: 3.2402\n",
            "Epoch 25/100\n",
            "14/14 [==============================] - 2s 115ms/step - loss: 3.1839 - val_loss: 3.6458\n",
            "Epoch 26/100\n",
            "14/14 [==============================] - 1s 89ms/step - loss: 3.2804 - val_loss: 3.3571\n",
            "Epoch 27/100\n",
            "14/14 [==============================] - 1s 80ms/step - loss: 3.2719 - val_loss: 3.2797\n",
            "Epoch 28/100\n",
            "14/14 [==============================] - 1s 85ms/step - loss: 3.1792 - val_loss: 3.4209\n",
            "Epoch 29/100\n",
            "14/14 [==============================] - 1s 90ms/step - loss: 3.2587 - val_loss: 3.6254\n",
            "Epoch 30/100\n",
            "14/14 [==============================] - 1s 85ms/step - loss: 3.2935 - val_loss: 3.3363\n",
            "Epoch 31/100\n",
            "14/14 [==============================] - 1s 83ms/step - loss: 3.4994 - val_loss: 3.3462\n",
            "Epoch 32/100\n",
            "14/14 [==============================] - 1s 82ms/step - loss: 3.2697 - val_loss: 3.2427\n",
            "Epoch 33/100\n",
            "14/14 [==============================] - 1s 81ms/step - loss: 3.1392 - val_loss: 3.4582\n",
            "Epoch 34/100\n",
            "14/14 [==============================] - 1s 80ms/step - loss: 3.2426 - val_loss: 3.3130\n",
            "Epoch 35/100\n",
            "14/14 [==============================] - 1s 82ms/step - loss: 3.1597 - val_loss: 3.6408\n",
            "Epoch 36/100\n",
            "14/14 [==============================] - 1s 88ms/step - loss: 3.1571 - val_loss: 3.2522\n",
            "Epoch 37/100\n",
            "14/14 [==============================] - 1s 82ms/step - loss: 3.1517 - val_loss: 3.3383\n",
            "Epoch 38/100\n",
            "14/14 [==============================] - 1s 80ms/step - loss: 3.1529 - val_loss: 3.4999\n",
            "Epoch 39/100\n",
            "14/14 [==============================] - 1s 83ms/step - loss: 3.2023 - val_loss: 3.4557\n",
            "Epoch 40/100\n",
            "14/14 [==============================] - 1s 92ms/step - loss: 3.2562 - val_loss: 3.2371\n",
            "Epoch 41/100\n",
            "14/14 [==============================] - 1s 80ms/step - loss: 3.1947 - val_loss: 3.2835\n",
            "Epoch 42/100\n",
            "14/14 [==============================] - 1s 81ms/step - loss: 3.2156 - val_loss: 3.4726\n",
            "Epoch 43/100\n",
            "14/14 [==============================] - 1s 82ms/step - loss: 3.1946 - val_loss: 3.4180\n",
            "Epoch 44/100\n",
            "14/14 [==============================] - 1s 82ms/step - loss: 3.1489 - val_loss: 3.3101\n",
            "Epoch 45/100\n",
            "14/14 [==============================] - 1s 80ms/step - loss: 3.1842 - val_loss: 3.2890\n",
            "Epoch 46/100\n",
            "14/14 [==============================] - 1s 90ms/step - loss: 3.1383 - val_loss: 3.2954\n",
            "Epoch 47/100\n",
            "14/14 [==============================] - 1s 82ms/step - loss: 3.3235 - val_loss: 4.4891\n",
            "Epoch 48/100\n",
            "14/14 [==============================] - 1s 90ms/step - loss: 3.6127 - val_loss: 3.5381\n",
            "Epoch 49/100\n",
            "14/14 [==============================] - 1s 91ms/step - loss: 3.3587 - val_loss: 3.3044\n",
            "Epoch 50/100\n",
            "14/14 [==============================] - 1s 91ms/step - loss: 3.3586 - val_loss: 3.2612\n",
            "Epoch 51/100\n",
            "14/14 [==============================] - 1s 81ms/step - loss: 3.1381 - val_loss: 3.5451\n",
            "Epoch 52/100\n",
            "14/14 [==============================] - 1s 83ms/step - loss: 3.1651 - val_loss: 3.7361\n",
            "Epoch 53/100\n",
            "14/14 [==============================] - 1s 81ms/step - loss: 3.2526 - val_loss: 3.2949\n",
            "Epoch 54/100\n",
            "14/14 [==============================] - 1s 81ms/step - loss: 3.1274 - val_loss: 3.3018\n",
            "Epoch 55/100\n",
            "14/14 [==============================] - 1s 81ms/step - loss: 3.1272 - val_loss: 3.2780\n",
            "Epoch 56/100\n",
            "14/14 [==============================] - 1s 83ms/step - loss: 3.1394 - val_loss: 3.3682\n",
            "Epoch 57/100\n",
            "14/14 [==============================] - 1s 81ms/step - loss: 3.1605 - val_loss: 3.3749\n",
            "Epoch 58/100\n",
            "14/14 [==============================] - 1s 82ms/step - loss: 3.2316 - val_loss: 3.4977\n",
            "Epoch 59/100\n",
            "14/14 [==============================] - 1s 81ms/step - loss: 3.1956 - val_loss: 3.4843\n",
            "Epoch 60/100\n",
            "14/14 [==============================] - 1s 80ms/step - loss: 3.1358 - val_loss: 3.3538\n",
            "Epoch 61/100\n",
            "14/14 [==============================] - 1s 92ms/step - loss: 3.1035 - val_loss: 3.2234\n",
            "Epoch 62/100\n",
            "14/14 [==============================] - 1s 80ms/step - loss: 3.1415 - val_loss: 3.5057\n",
            "Epoch 63/100\n",
            "14/14 [==============================] - 1s 82ms/step - loss: 3.1811 - val_loss: 3.2490\n",
            "Epoch 64/100\n",
            "14/14 [==============================] - 1s 92ms/step - loss: 3.1134 - val_loss: 3.2493\n",
            "Epoch 65/100\n",
            "14/14 [==============================] - 1s 81ms/step - loss: 3.0442 - val_loss: 3.4735\n",
            "Epoch 66/100\n",
            "14/14 [==============================] - 1s 89ms/step - loss: 3.1391 - val_loss: 3.6324\n",
            "Epoch 67/100\n",
            "14/14 [==============================] - 1s 82ms/step - loss: 3.2119 - val_loss: 3.8295\n",
            "Epoch 68/100\n",
            "14/14 [==============================] - 1s 81ms/step - loss: 3.1422 - val_loss: 3.2638\n",
            "Epoch 69/100\n",
            "14/14 [==============================] - 1s 81ms/step - loss: 3.1308 - val_loss: 3.3750\n",
            "Epoch 70/100\n",
            "14/14 [==============================] - 1s 82ms/step - loss: 3.1457 - val_loss: 3.6156\n",
            "Epoch 71/100\n",
            "14/14 [==============================] - 1s 81ms/step - loss: 3.1887 - val_loss: 3.3839\n",
            "Epoch 72/100\n",
            "14/14 [==============================] - 1s 82ms/step - loss: 3.1068 - val_loss: 3.3528\n",
            "Epoch 73/100\n",
            "14/14 [==============================] - 1s 83ms/step - loss: 3.3124 - val_loss: 3.3838\n",
            "Epoch 74/100\n",
            "14/14 [==============================] - 1s 84ms/step - loss: 3.2650 - val_loss: 3.2762\n",
            "Epoch 75/100\n",
            "14/14 [==============================] - 1s 81ms/step - loss: 3.0763 - val_loss: 3.7836\n",
            "Epoch 76/100\n",
            "14/14 [==============================] - 1s 83ms/step - loss: 3.1575 - val_loss: 3.4345\n",
            "Epoch 77/100\n",
            "14/14 [==============================] - 1s 91ms/step - loss: 3.2909 - val_loss: 3.4372\n",
            "Epoch 78/100\n",
            "14/14 [==============================] - 1s 82ms/step - loss: 3.1648 - val_loss: 3.1611\n",
            "Epoch 79/100\n",
            "14/14 [==============================] - 1s 80ms/step - loss: 3.3006 - val_loss: 3.9006\n",
            "Epoch 80/100\n",
            "14/14 [==============================] - 1s 82ms/step - loss: 3.1028 - val_loss: 3.3241\n",
            "Epoch 81/100\n",
            "14/14 [==============================] - 1s 83ms/step - loss: 3.0925 - val_loss: 3.4111\n",
            "Epoch 82/100\n",
            "14/14 [==============================] - 1s 82ms/step - loss: 3.1010 - val_loss: 3.4944\n",
            "Epoch 83/100\n",
            "14/14 [==============================] - 1s 88ms/step - loss: 3.1089 - val_loss: 3.2632\n",
            "Epoch 84/100\n",
            "14/14 [==============================] - 1s 83ms/step - loss: 3.1023 - val_loss: 3.2927\n",
            "Epoch 85/100\n",
            "14/14 [==============================] - 1s 92ms/step - loss: 3.0721 - val_loss: 3.5511\n",
            "Epoch 86/100\n",
            "14/14 [==============================] - 1s 85ms/step - loss: 3.1271 - val_loss: 3.4667\n",
            "Epoch 87/100\n",
            "14/14 [==============================] - 1s 84ms/step - loss: 3.0569 - val_loss: 3.2548\n",
            "Epoch 88/100\n",
            "14/14 [==============================] - 1s 82ms/step - loss: 3.1760 - val_loss: 3.3200\n",
            "Epoch 89/100\n",
            "14/14 [==============================] - 1s 83ms/step - loss: 3.0876 - val_loss: 3.2537\n",
            "Epoch 90/100\n",
            "14/14 [==============================] - 1s 85ms/step - loss: 3.0820 - val_loss: 3.3157\n",
            "Epoch 91/100\n",
            "14/14 [==============================] - 1s 80ms/step - loss: 3.0664 - val_loss: 3.2939\n",
            "Epoch 92/100\n",
            "14/14 [==============================] - 1s 92ms/step - loss: 3.0499 - val_loss: 3.4487\n",
            "Epoch 93/100\n",
            "14/14 [==============================] - 1s 82ms/step - loss: 3.0506 - val_loss: 3.3715\n",
            "Epoch 94/100\n",
            "14/14 [==============================] - 1s 94ms/step - loss: 3.0746 - val_loss: 3.1941\n",
            "Epoch 95/100\n",
            "14/14 [==============================] - 1s 87ms/step - loss: 3.0766 - val_loss: 3.5224\n",
            "Epoch 96/100\n",
            "14/14 [==============================] - 1s 82ms/step - loss: 3.1318 - val_loss: 4.0169\n",
            "Epoch 97/100\n",
            "14/14 [==============================] - 1s 82ms/step - loss: 3.2086 - val_loss: 3.4443\n",
            "Epoch 98/100\n",
            "14/14 [==============================] - 1s 82ms/step - loss: 3.1527 - val_loss: 3.2853\n",
            "Epoch 99/100\n",
            "14/14 [==============================] - 1s 84ms/step - loss: 3.0276 - val_loss: 3.4765\n",
            "Epoch 100/100\n",
            "14/14 [==============================] - 1s 88ms/step - loss: 3.1335 - val_loss: 3.3456\n"
          ]
        }
      ],
      "source": [
        "inputs = tf.keras.Input(shape=(30, 30, 3))\n",
        "x = tf.keras.layers.Conv2D(filters=32, kernel_size=(3, 3), activation='relu')(inputs)\n",
        "x = tf.keras.layers.MaxPool2D(pool_size=(3,3))(x)\n",
        "x = tf.keras.layers.Conv2D(filters=32, kernel_size=(3, 3), activation='relu')(x)\n",
        "x = tf.keras.layers.MaxPool2D(pool_size=(3,3))(x)\n",
        "x = tf.keras.layers.GlobalAveragePooling2D()(x)\n",
        "x = tf.keras.layers.Dense(64, activation='relu')(x)\n",
        "x = tf.keras.layers.Dense(64, activation='relu')(x)\n",
        "outputs = tf.keras.layers.Dense(1, activation='linear')(x)\n",
        "\n",
        "model = tf.keras.Model(inputs=inputs, outputs=outputs)\n",
        "\n",
        "model.compile(\n",
        "    optimizer='adam',\n",
        "    loss='mae'\n",
        ")\n",
        "\n",
        "history = model.fit(\n",
        "    train_images,\n",
        "    validation_data=val_images,\n",
        "    batch_size = 256,\n",
        "    epochs=100\n",
        ")"
      ]
    },
    {
      "cell_type": "markdown",
      "source": [
        "We visualize the summary of the training step. As we notice, the results are stable at the last epochs."
      ],
      "metadata": {
        "id": "x8ypirv8ituS"
      }
    },
    {
      "cell_type": "code",
      "execution_count": null,
      "metadata": {
        "colab": {
          "base_uri": "https://localhost:8080/",
          "height": 282
        },
        "id": "uKv6Ln1SGuN5",
        "outputId": "933aad34-ecda-475d-f121-1029a5c679b2"
      },
      "outputs": [
        {
          "output_type": "execute_result",
          "data": {
            "text/plain": [
              "<matplotlib.axes._subplots.AxesSubplot at 0x7f594a83ef10>"
            ]
          },
          "metadata": {},
          "execution_count": 25
        },
        {
          "output_type": "display_data",
          "data": {
            "text/plain": [
              "<Figure size 432x288 with 1 Axes>"
            ],
            "image/png": "[encoded data removed]"
          },
          "metadata": {
            "needs_background": "light"
          }
        }
      ],
      "source": [
        "history_df = pd.DataFrame(history.history)\n",
        "history_df.loc[:, ['loss', 'val_loss']].plot()"
      ]
    },
    {
      "cell_type": "markdown",
      "source": [
        "#### 6/ Evaluating the model:"
      ],
      "metadata": {
        "id": "hhrSyy865byp"
      }
    },
    {
      "cell_type": "markdown",
      "source": [
        "To finish, we have to evaluate our model to see how much it is efficient to make the necessary predictions. For that, we will use the mean absolute error metric."
      ],
      "metadata": {
        "id": "nFofa1Zj5kKB"
      }
    },
    {
      "cell_type": "code",
      "execution_count": null,
      "metadata": {
        "id": "pP6UvlLQNCwv"
      },
      "outputs": [],
      "source": [
        "predicted_yield = np.squeeze(model.predict(test_images))\n",
        "true_yield = test_images.labels"
      ]
    },
    {
      "cell_type": "code",
      "source": [
        "from sklearn.metrics import mean_absolute_error\n",
        "err = mean_absolute_error(true_yield, predicted_yield)\n",
        "print('The mean absolute error obtained while comparing the true yield and the predicted one is',err)"
      ],
      "metadata": {
        "colab": {
          "base_uri": "https://localhost:8080/"
        },
        "id": "GfagASaUgUmx",
        "outputId": "332d108c-c795-4701-cafb-2604c38be229"
      },
      "execution_count": null,
      "outputs": [
        {
          "output_type": "stream",
          "name": "stdout",
          "text": [
            "The mean absolute error obtained while comparing the true yield and the predicted one is 3.2790913910701356\n"
          ]
        }
      ]
    }
  ],
  "metadata": {
    "colab": {
      "provenance": []
    },
    "kernelspec": {
      "display_name": "Python 3",
      "name": "python3"
    },
    "language_info": {
      "name": "python"
    }
  },
  "nbformat": 4,
  "nbformat_minor": 0
}